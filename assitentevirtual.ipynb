{
  "nbformat": 4,
  "nbformat_minor": 0,
  "metadata": {
    "colab": {
      "provenance": [],
      "authorship_tag": "ABX9TyNFiNU2M4fvU2cQ9ZSTIHkr",
      "include_colab_link": true
    },
    "kernelspec": {
      "name": "python3",
      "display_name": "Python 3"
    },
    "language_info": {
      "name": "python"
    }
  },
  "cells": [
    {
      "cell_type": "markdown",
      "metadata": {
        "id": "view-in-github",
        "colab_type": "text"
      },
      "source": [
        "<a href=\"https://colab.research.google.com/github/DaiRodri/IA/blob/main/assitentevirtual.ipynb\" target=\"_parent\"><img src=\"https://colab.research.google.com/assets/colab-badge.svg\" alt=\"Open In Colab\"/></a>"
      ]
    },
    {
      "cell_type": "code",
      "execution_count": 11,
      "metadata": {
        "colab": {
          "base_uri": "https://localhost:8080/"
        },
        "id": "pI28UTuFwhf1",
        "outputId": "9365d9a7-57f7-4c9c-99a0-acf98c89fead"
      },
      "outputs": [
        {
          "output_type": "stream",
          "name": "stdout",
          "text": [
            "Requirement already satisfied: pydub in /usr/local/lib/python3.11/dist-packages (0.25.1)\n",
            "Reading package lists... Done\n",
            "Building dependency tree... Done\n",
            "Reading state information... Done\n",
            "ffmpeg is already the newest version (7:4.4.2-0ubuntu0.22.04.1).\n",
            "0 upgraded, 0 newly installed, 0 to remove and 29 not upgraded.\n"
          ]
        }
      ],
      "source": [
        "!pip install pydub\n",
        "!apt-get install ffmpeg\n"
      ]
    },
    {
      "cell_type": "code",
      "source": [
        "import speech_recognition as sr\n",
        "from pydub import AudioSegment\n",
        "\n",
        "# Converter OGG para WAV\n",
        "audio = AudioSegment.from_ogg(\"/content/WhatsApp Ptt 2025-03-27 at 23.25.11 (1).ogg\")\n",
        "audio.export(\"/content/converted_audio.wav\", format=\"wav\")\n",
        "\n",
        "# Usando o arquivo WAV convertido para reconhecimento\n",
        "recognizer = sr.Recognizer()\n",
        "\n",
        "with sr.AudioFile(\"/content/converted_audio.wav\") as source:\n",
        "    audio_data = recognizer.record(source)  # Lê o áudio do arquivo\n",
        "\n",
        "# Transcrevendo o áudio para texto\n",
        "try:\n",
        "    texto = recognizer.recognize_google(audio_data, language=\"pt-BR\")  # Para português\n",
        "    print(f\"Texto reconhecido: {texto}\")\n",
        "except sr.UnknownValueError:\n",
        "    print(\"Não foi possível entender o áudio.\")\n",
        "except sr.RequestError as e:\n",
        "    print(f\"Erro no serviço de reconhecimento; {e}\")\n"
      ],
      "metadata": {
        "colab": {
          "base_uri": "https://localhost:8080/"
        },
        "id": "OUun9Ymjx64N",
        "outputId": "013b9e72-61a5-493f-fc20-e117d1c0aaa5"
      },
      "execution_count": 12,
      "outputs": [
        {
          "output_type": "stream",
          "name": "stdout",
          "text": [
            "Texto reconhecido: Oi estou tentando fazer minha assistente virtual enviar\n"
          ]
        }
      ]
    },
    {
      "cell_type": "code",
      "source": [
        "!pip install SpeechRecognition pyttsx3\n"
      ],
      "metadata": {
        "colab": {
          "base_uri": "https://localhost:8080/"
        },
        "id": "23FtMF20zCB5",
        "outputId": "2cf5f472-45af-4cac-bb67-349711814129"
      },
      "execution_count": 13,
      "outputs": [
        {
          "output_type": "stream",
          "name": "stdout",
          "text": [
            "Requirement already satisfied: SpeechRecognition in /usr/local/lib/python3.11/dist-packages (3.14.2)\n",
            "Requirement already satisfied: pyttsx3 in /usr/local/lib/python3.11/dist-packages (2.98)\n",
            "Requirement already satisfied: typing-extensions in /usr/local/lib/python3.11/dist-packages (from SpeechRecognition) (4.12.2)\n"
          ]
        }
      ]
    },
    {
      "cell_type": "code",
      "source": [
        "!pip install gTTS\n",
        "!pip install pydub\n",
        "!apt-get install -y ffmpeg\n",
        "\n",
        "\n"
      ],
      "metadata": {
        "colab": {
          "base_uri": "https://localhost:8080/"
        },
        "id": "xyH5RfqT0G56",
        "outputId": "1ca93da1-bf39-474a-f4fb-d67dab66cb1b"
      },
      "execution_count": 52,
      "outputs": [
        {
          "output_type": "stream",
          "name": "stdout",
          "text": [
            "Requirement already satisfied: gTTS in /usr/local/lib/python3.11/dist-packages (2.5.4)\n",
            "Requirement already satisfied: requests<3,>=2.27 in /usr/local/lib/python3.11/dist-packages (from gTTS) (2.32.3)\n",
            "Requirement already satisfied: click<8.2,>=7.1 in /usr/local/lib/python3.11/dist-packages (from gTTS) (8.1.8)\n",
            "Requirement already satisfied: charset-normalizer<4,>=2 in /usr/local/lib/python3.11/dist-packages (from requests<3,>=2.27->gTTS) (3.4.1)\n",
            "Requirement already satisfied: idna<4,>=2.5 in /usr/local/lib/python3.11/dist-packages (from requests<3,>=2.27->gTTS) (3.10)\n",
            "Requirement already satisfied: urllib3<3,>=1.21.1 in /usr/local/lib/python3.11/dist-packages (from requests<3,>=2.27->gTTS) (2.3.0)\n",
            "Requirement already satisfied: certifi>=2017.4.17 in /usr/local/lib/python3.11/dist-packages (from requests<3,>=2.27->gTTS) (2025.1.31)\n",
            "Requirement already satisfied: pydub in /usr/local/lib/python3.11/dist-packages (0.25.1)\n",
            "Reading package lists... Done\n",
            "Building dependency tree... Done\n",
            "Reading state information... Done\n",
            "ffmpeg is already the newest version (7:4.4.2-0ubuntu0.22.04.1).\n",
            "0 upgraded, 0 newly installed, 0 to remove and 29 not upgraded.\n"
          ]
        }
      ]
    },
    {
      "cell_type": "code",
      "source": [
        "!pip install SpeechRecognition pydub\n"
      ],
      "metadata": {
        "colab": {
          "base_uri": "https://localhost:8080/"
        },
        "id": "8pe5I_Kt3Btf",
        "outputId": "6909a939-c892-4b33-e699-875d7bd4d863"
      },
      "execution_count": 34,
      "outputs": [
        {
          "output_type": "stream",
          "name": "stdout",
          "text": [
            "Requirement already satisfied: SpeechRecognition in /usr/local/lib/python3.11/dist-packages (3.14.2)\n",
            "Requirement already satisfied: pydub in /usr/local/lib/python3.11/dist-packages (0.25.1)\n",
            "Requirement already satisfied: typing-extensions in /usr/local/lib/python3.11/dist-packages (from SpeechRecognition) (4.12.2)\n"
          ]
        }
      ]
    },
    {
      "cell_type": "code",
      "source": [
        "from pydub import AudioSegment\n",
        "\n",
        "# Carregar o arquivo OGG (não MP3)\n",
        "audio = AudioSegment.from_file(\"/content/WhatsApp Ptt 2025-03-28 at 00.37.18.ogg\", format=\"ogg\")  # Altere para o nome correto do seu arquivo\n",
        "\n",
        "# Converter para WAV com codificação PCM\n",
        "audio.export(\"/content/audio_convertido.wav\", format=\"wav\", codec=\"pcm_s16le\")\n",
        "\n"
      ],
      "metadata": {
        "colab": {
          "base_uri": "https://localhost:8080/"
        },
        "id": "z39Scsrt4vei",
        "outputId": "963721c6-9185-422b-8f11-820b030abb6c"
      },
      "execution_count": 58,
      "outputs": [
        {
          "output_type": "execute_result",
          "data": {
            "text/plain": [
              "<_io.BufferedRandom name='/content/audio_convertido.wav'>"
            ]
          },
          "metadata": {},
          "execution_count": 58
        }
      ]
    },
    {
      "cell_type": "code",
      "source": [
        "import speech_recognition as sr\n",
        "import webbrowser\n",
        "from google.colab import files\n",
        "from pydub import AudioSegment\n",
        "\n",
        "# Função para ouvir o comando do arquivo de áudio\n",
        "def ouvir_comando(audio_file):\n",
        "    # Inicializa o reconhecedor de fala\n",
        "    recognizer = sr.Recognizer()\n",
        "\n",
        "    # Abrir o arquivo de áudio convertido\n",
        "    with sr.AudioFile(audio_file) as source:\n",
        "        print(\"Processando o áudio...\")\n",
        "        audio_data = recognizer.record(source)  # Lê o áudio completo\n",
        "\n",
        "    # Tentar reconhecer a fala usando a API do Google\n",
        "    try:\n",
        "        texto = recognizer.recognize_google(audio_data, language=\"pt-BR\")\n",
        "        print(\"Você disse: \" + texto)\n",
        "        return texto.lower()  # Retorna o comando reconhecido em minúsculas\n",
        "    except sr.UnknownValueError:\n",
        "        print(\"Não consegui entender o áudio.\")\n",
        "        return None\n",
        "    except sr.RequestError as e:\n",
        "        print(f\"Erro ao conectar ao serviço de reconhecimento de fala: {e}\")\n",
        "        return None\n",
        "\n",
        "# Função para abrir o site com base no comando de voz\n",
        "def abrir_site(comando):\n",
        "    if comando:\n",
        "        # Definir os sites que podem ser abertos a partir dos comandos\n",
        "        if \"youtube\" in comando:\n",
        "            url = \"https://www.youtube.com\"\n",
        "        elif \"google\" in comando:\n",
        "            url = \"https://www.google.com\"\n",
        "        elif \"facebook\" in comando:\n",
        "            url = \"https://www.facebook.com\"\n",
        "        elif \"twitter\" in comando:\n",
        "            url = \"https://www.twitter.com\"\n",
        "        else:\n",
        "            url = f\"https://www.google.com/search?q={comando}\"  # Pesquisa no Google caso não reconheça um comando específico\n",
        "\n",
        "        # Abre o site no navegador\n",
        "        print(f\"Abrindo o site: {url}\")\n",
        "        webbrowser.open(url)  # Abre o site no navegador\n",
        "\n",
        "# Função principal\n",
        "def assistente_virtual():\n",
        "    # Fazer o upload do arquivo de áudio\n",
        "    print(\"Por favor, faça o upload de um arquivo de áudio com seu comando.\")\n",
        "    uploaded = files.upload()\n",
        "\n",
        "    # Suponha que o arquivo carregado seja o único ou o primeiro\n",
        "    audio_file = list(uploaded.keys())[0]\n",
        "\n",
        "    # Converter o áudio para WAV com codificação PCM\n",
        "    audio = AudioSegment.from_file(audio_file, format=\"ogg\")  # Se o arquivo for OGG\n",
        "    audio.export(\"/content/audio_convertido.wav\", format=\"wav\", codec=\"pcm_s16le\")  # Salvar como WAV com PCM\n",
        "\n",
        "    # Ouvir o comando no arquivo de áudio convertido\n",
        "    comando = ouvir_comando(\"/content/audio_convertido.wav\")\n",
        "\n",
        "    # Abrir o site com base no comando\n",
        "    abrir_site(comando)\n",
        "\n",
        "# Executar a assistente virtual\n",
        "assistente_virtual()\n",
        "\n"
      ],
      "metadata": {
        "colab": {
          "base_uri": "https://localhost:8080/",
          "height": 142
        },
        "id": "I6J5VoaH6OX_",
        "outputId": "32323f31-d951-404a-b766-f0283030b563"
      },
      "execution_count": 59,
      "outputs": [
        {
          "output_type": "stream",
          "name": "stdout",
          "text": [
            "Por favor, faça o upload de um arquivo de áudio com seu comando.\n"
          ]
        },
        {
          "output_type": "display_data",
          "data": {
            "text/plain": [
              "<IPython.core.display.HTML object>"
            ],
            "text/html": [
              "\n",
              "     <input type=\"file\" id=\"files-0f600400-0b8e-4854-94cc-5dff1f574832\" name=\"files[]\" multiple disabled\n",
              "        style=\"border:none\" />\n",
              "     <output id=\"result-0f600400-0b8e-4854-94cc-5dff1f574832\">\n",
              "      Upload widget is only available when the cell has been executed in the\n",
              "      current browser session. Please rerun this cell to enable.\n",
              "      </output>\n",
              "      <script>// Copyright 2017 Google LLC\n",
              "//\n",
              "// Licensed under the Apache License, Version 2.0 (the \"License\");\n",
              "// you may not use this file except in compliance with the License.\n",
              "// You may obtain a copy of the License at\n",
              "//\n",
              "//      http://www.apache.org/licenses/LICENSE-2.0\n",
              "//\n",
              "// Unless required by applicable law or agreed to in writing, software\n",
              "// distributed under the License is distributed on an \"AS IS\" BASIS,\n",
              "// WITHOUT WARRANTIES OR CONDITIONS OF ANY KIND, either express or implied.\n",
              "// See the License for the specific language governing permissions and\n",
              "// limitations under the License.\n",
              "\n",
              "/**\n",
              " * @fileoverview Helpers for google.colab Python module.\n",
              " */\n",
              "(function(scope) {\n",
              "function span(text, styleAttributes = {}) {\n",
              "  const element = document.createElement('span');\n",
              "  element.textContent = text;\n",
              "  for (const key of Object.keys(styleAttributes)) {\n",
              "    element.style[key] = styleAttributes[key];\n",
              "  }\n",
              "  return element;\n",
              "}\n",
              "\n",
              "// Max number of bytes which will be uploaded at a time.\n",
              "const MAX_PAYLOAD_SIZE = 100 * 1024;\n",
              "\n",
              "function _uploadFiles(inputId, outputId) {\n",
              "  const steps = uploadFilesStep(inputId, outputId);\n",
              "  const outputElement = document.getElementById(outputId);\n",
              "  // Cache steps on the outputElement to make it available for the next call\n",
              "  // to uploadFilesContinue from Python.\n",
              "  outputElement.steps = steps;\n",
              "\n",
              "  return _uploadFilesContinue(outputId);\n",
              "}\n",
              "\n",
              "// This is roughly an async generator (not supported in the browser yet),\n",
              "// where there are multiple asynchronous steps and the Python side is going\n",
              "// to poll for completion of each step.\n",
              "// This uses a Promise to block the python side on completion of each step,\n",
              "// then passes the result of the previous step as the input to the next step.\n",
              "function _uploadFilesContinue(outputId) {\n",
              "  const outputElement = document.getElementById(outputId);\n",
              "  const steps = outputElement.steps;\n",
              "\n",
              "  const next = steps.next(outputElement.lastPromiseValue);\n",
              "  return Promise.resolve(next.value.promise).then((value) => {\n",
              "    // Cache the last promise value to make it available to the next\n",
              "    // step of the generator.\n",
              "    outputElement.lastPromiseValue = value;\n",
              "    return next.value.response;\n",
              "  });\n",
              "}\n",
              "\n",
              "/**\n",
              " * Generator function which is called between each async step of the upload\n",
              " * process.\n",
              " * @param {string} inputId Element ID of the input file picker element.\n",
              " * @param {string} outputId Element ID of the output display.\n",
              " * @return {!Iterable<!Object>} Iterable of next steps.\n",
              " */\n",
              "function* uploadFilesStep(inputId, outputId) {\n",
              "  const inputElement = document.getElementById(inputId);\n",
              "  inputElement.disabled = false;\n",
              "\n",
              "  const outputElement = document.getElementById(outputId);\n",
              "  outputElement.innerHTML = '';\n",
              "\n",
              "  const pickedPromise = new Promise((resolve) => {\n",
              "    inputElement.addEventListener('change', (e) => {\n",
              "      resolve(e.target.files);\n",
              "    });\n",
              "  });\n",
              "\n",
              "  const cancel = document.createElement('button');\n",
              "  inputElement.parentElement.appendChild(cancel);\n",
              "  cancel.textContent = 'Cancel upload';\n",
              "  const cancelPromise = new Promise((resolve) => {\n",
              "    cancel.onclick = () => {\n",
              "      resolve(null);\n",
              "    };\n",
              "  });\n",
              "\n",
              "  // Wait for the user to pick the files.\n",
              "  const files = yield {\n",
              "    promise: Promise.race([pickedPromise, cancelPromise]),\n",
              "    response: {\n",
              "      action: 'starting',\n",
              "    }\n",
              "  };\n",
              "\n",
              "  cancel.remove();\n",
              "\n",
              "  // Disable the input element since further picks are not allowed.\n",
              "  inputElement.disabled = true;\n",
              "\n",
              "  if (!files) {\n",
              "    return {\n",
              "      response: {\n",
              "        action: 'complete',\n",
              "      }\n",
              "    };\n",
              "  }\n",
              "\n",
              "  for (const file of files) {\n",
              "    const li = document.createElement('li');\n",
              "    li.append(span(file.name, {fontWeight: 'bold'}));\n",
              "    li.append(span(\n",
              "        `(${file.type || 'n/a'}) - ${file.size} bytes, ` +\n",
              "        `last modified: ${\n",
              "            file.lastModifiedDate ? file.lastModifiedDate.toLocaleDateString() :\n",
              "                                    'n/a'} - `));\n",
              "    const percent = span('0% done');\n",
              "    li.appendChild(percent);\n",
              "\n",
              "    outputElement.appendChild(li);\n",
              "\n",
              "    const fileDataPromise = new Promise((resolve) => {\n",
              "      const reader = new FileReader();\n",
              "      reader.onload = (e) => {\n",
              "        resolve(e.target.result);\n",
              "      };\n",
              "      reader.readAsArrayBuffer(file);\n",
              "    });\n",
              "    // Wait for the data to be ready.\n",
              "    let fileData = yield {\n",
              "      promise: fileDataPromise,\n",
              "      response: {\n",
              "        action: 'continue',\n",
              "      }\n",
              "    };\n",
              "\n",
              "    // Use a chunked sending to avoid message size limits. See b/62115660.\n",
              "    let position = 0;\n",
              "    do {\n",
              "      const length = Math.min(fileData.byteLength - position, MAX_PAYLOAD_SIZE);\n",
              "      const chunk = new Uint8Array(fileData, position, length);\n",
              "      position += length;\n",
              "\n",
              "      const base64 = btoa(String.fromCharCode.apply(null, chunk));\n",
              "      yield {\n",
              "        response: {\n",
              "          action: 'append',\n",
              "          file: file.name,\n",
              "          data: base64,\n",
              "        },\n",
              "      };\n",
              "\n",
              "      let percentDone = fileData.byteLength === 0 ?\n",
              "          100 :\n",
              "          Math.round((position / fileData.byteLength) * 100);\n",
              "      percent.textContent = `${percentDone}% done`;\n",
              "\n",
              "    } while (position < fileData.byteLength);\n",
              "  }\n",
              "\n",
              "  // All done.\n",
              "  yield {\n",
              "    response: {\n",
              "      action: 'complete',\n",
              "    }\n",
              "  };\n",
              "}\n",
              "\n",
              "scope.google = scope.google || {};\n",
              "scope.google.colab = scope.google.colab || {};\n",
              "scope.google.colab._files = {\n",
              "  _uploadFiles,\n",
              "  _uploadFilesContinue,\n",
              "};\n",
              "})(self);\n",
              "</script> "
            ]
          },
          "metadata": {}
        },
        {
          "output_type": "stream",
          "name": "stdout",
          "text": [
            "Saving audio_convertido.wav to audio_convertido (1).wav\n",
            "Processando o áudio...\n",
            "Você disse: Abra o YouTube por favor\n",
            "Abrindo o site: https://www.youtube.com\n"
          ]
        }
      ]
    }
  ]
}